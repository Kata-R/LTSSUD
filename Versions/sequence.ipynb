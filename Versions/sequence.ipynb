{
  "nbformat": 4,
  "nbformat_minor": 0,
  "metadata": {
    "colab": {
      "provenance": []
    },
    "kernelspec": {
      "name": "python3",
      "display_name": "Python 3"
    },
    "language_info": {
      "name": "python"
    }
  },
  "cells": [
    {
      "cell_type": "markdown",
      "source": [
        "# Thuật toán XGBoost"
      ],
      "metadata": {
        "id": "lk6BARVWixw4"
      }
    },
    {
      "cell_type": "code",
      "source": [
        "from google.colab import drive\n",
        "drive.mount(\"/content/drive\")\n",
        "\n",
        "path_final = \"/content/drive/MyDrive/LTSSUD\"\n",
        "import os\n",
        "\n",
        "if (os.path.isdir(path_final) == True):\n",
        "  %cd \"/content/drive/MyDrive/LTSSUD\"\n",
        "\n",
        "!ls"
      ],
      "metadata": {
        "id": "yAqJ1V0bWJpt",
        "colab": {
          "base_uri": "https://localhost:8080/"
        },
        "outputId": "cd6e5fc0-b5b2-441c-dc90-18830a33d889"
      },
      "execution_count": null,
      "outputs": [
        {
          "output_type": "stream",
          "name": "stdout",
          "text": [
            "Mounted at /content/drive\n",
            "/content/drive/MyDrive/LTSSUD\n",
            "Data_Preparation___Image_processing.ipynb  Proposal.gdoc\n",
            "dataset\t\t\t\t\t   results_base.pkl\n",
            "Final_report.ipynb\t\t\t   results_img_acc.pkl\n",
            "handle_imb.ipynb\t\t\t   results.pkl\n",
            "lib_results.pkl\t\t\t\t   sequence.ipynb\n",
            "models\t\t\t\t\t   train_data_128_full.npz\n",
            "parallel.ipynb\t\t\t\t   winequality-red.csv\n",
            "parallel_v1.ipynb\t\t\t   XGB_regression.ipynb\n"
          ]
        }
      ]
    },
    {
      "cell_type": "code",
      "source": [
        "import numpy as np\n",
        "import pandas as pd\n",
        "import math\n",
        "import json\n",
        "import time\n",
        "import matplotlib.pyplot as plt\n",
        "from numba import jit\n",
        "\n",
        "from sklearn.tree import DecisionTreeRegressor\n",
        "from sklearn.model_selection import train_test_split\n",
        "from sklearn.impute  import SimpleImputer\n",
        "from tqdm import tqdm\n",
        "import warnings\n",
        "warnings.filterwarnings('ignore')"
      ],
      "metadata": {
        "id": "jjLREnOAUH6r"
      },
      "execution_count": null,
      "outputs": []
    },
    {
      "cell_type": "markdown",
      "source": [
        "## 1. Gradient Boosting"
      ],
      "metadata": {
        "id": "r-1-Y8yti8c0"
      }
    },
    {
      "cell_type": "markdown",
      "source": [
        "- Ý tưởng cơ bản là Boosting sẽ tạo ra một loạt các model yếu, học bổ sung lẫn nhau. Nói cách khác, trong Boosting, các model sau sẽ cố gắng học để hạn chế lỗi lầm của các model trước.\n",
        "- Các model sau sẽ dự đoán giá trị residual mà kết quả của model trước để lại với công thức:<br>\n",
        "$$\n",
        "residual = y - preds\n",
        "$$\n",
        "- Với kết quả trả về sẽ là list các model. Với các model nhỏ được xây dựng theo thuật toán của XGB gợi là XGB tree\n",
        "- Các giá trị dự đoán sẽ đc tính theo công thức:<br>\n",
        "$$ Predictions += Learningrate*Preds $$"
      ],
      "metadata": {
        "id": "dJQoLCsTjhM1"
      }
    },
    {
      "cell_type": "markdown",
      "source": [
        "## 2. XBG Tree classifier"
      ],
      "metadata": {
        "id": "Kzqr-jsjn4mZ"
      }
    },
    {
      "cell_type": "markdown",
      "source": [
        "***Các hàm log dưới đây đều là log bậc e***"
      ],
      "metadata": {
        "id": "CjrApms-r3Dx"
      }
    },
    {
      "cell_type": "markdown",
      "source": [
        "Ta sẽ bắt đầu với hàm Loss function `Negative log-likelihood` của bài toán phân lớp trước:<br>\n",
        "$$\n",
        "(1) \\sum L(y_i, p_i)= - \\sum [y_ilog(p_i)+(1-y_i)log(1-p_i)]\n",
        "$$\n",
        "- $y_i$ là nhãn dưới dạng probability(p)\n",
        "- $p_i$ là tỉ lệ dự đoán dưới dạng p  "
      ],
      "metadata": {
        "id": "rRw0m5iNoFAt"
      }
    },
    {
      "cell_type": "markdown",
      "source": [
        "Khác với bài toán hồi quy thì output của bài toán phân lớp nhị phân bị giới hạn trong đoạn từ 0 đến 1 nên để quy nó về bài toán hồi quy thông thường thì ta sẽ dùng đến $log(odds)$:\n",
        "$$log(odds) = log(\\frac p {1-p})$$\n",
        "$$p = \\frac {odds} {1 - odds}$$\n",
        "- $p$ là tỉ lệ từ 0 đến 1"
      ],
      "metadata": {
        "id": "Y2AMS7-PsNq8"
      }
    },
    {
      "cell_type": "markdown",
      "source": [
        "Ta chuyển công thức (1) sang dạng $log(odds)$ ta được:\n",
        "$$\n",
        "(2)\\sum = L(y_i, log(odds)) = - \\sum[y_ilog(odds) - log(1 + e^{log(odds)})]\n",
        "$$"
      ],
      "metadata": {
        "id": "eE9IAGXTGF50"
      }
    },
    {
      "cell_type": "markdown",
      "source": [
        "Dựa vào khai triển bậc 2 ta có công thức sau:\n",
        "$$\n",
        "  L(y_i, p_i + O) \\approx L(y_i, p_i) + [ \\frac {d} {d p_i} L(y_i, p_i)]O + [ \\frac {d^2} {d^2 p_i} L(y_i, p_i)]O^2\n",
        "$$\n",
        "- Trong đó O là giá trị ta đang quan sát\n",
        "- Đạo hàm bậc 1 và 2 của $L(y_i, p_i)$ lần lượt được gọi là gradient(g) và hessian(h)\n",
        "<br>Khi đạo hàm của công thức trên theo O ta được:\n",
        " $$\n",
        " O = \\frac {-g}{h+\\lambda}\n",
        " $$"
      ],
      "metadata": {
        "id": "vVVahC-2HWJP"
      }
    },
    {
      "cell_type": "markdown",
      "source": [
        "$$\n",
        "g = L'(y_i, log(odds)) = -y_i + \\frac{e^{log(odds)}}{1 + e^{log(odds)}} = -(y_i - p_i)\n",
        "$$\n",
        "$$\n",
        "h = L''(y_i, log(odds)) = \\frac{e^{log(odds)}}{1 + e^{log(odds)}}*\\frac{1}{1 + e^{log(odds)}} = p_i(1 - p_i)\n",
        "$$"
      ],
      "metadata": {
        "id": "zGbmBac-abmx"
      }
    },
    {
      "cell_type": "markdown",
      "source": [
        "## Classification"
      ],
      "metadata": {
        "id": "EaJOnxtCA867"
      }
    },
    {
      "cell_type": "code",
      "source": [
        "class XGBoostTree:\n",
        "    def __init__(self, max_depth=3, min_samples_split=1, min_impurity=1e-7, gamma = 0):\n",
        "        self.max_depth = max_depth\n",
        "        self.min_samples_split = min_samples_split\n",
        "        self.min_impurity = min_impurity\n",
        "        self.gamma = gamma\n",
        "        self.tree = {}\n",
        "        self.fbs_t = [0,0]\n",
        "\n",
        "    #split_data chia dữ liệu ra làm đôi tại split value\n",
        "    def split_data(self, X, feature_index, split_value):\n",
        "        left_indices = X[:, feature_index] <= split_value\n",
        "        right_indices = X[:, feature_index] > split_value\n",
        "        return left_indices, right_indices\n",
        "\n",
        "    #Tính tất cả giá trị similarity của mảng input\n",
        "    def similarity(self, y_true, p, i = 2):\n",
        "        numerator = np.sum(y_true)**i\n",
        "        denominator = np.sum(p * (1 - p)) + self.min_impurity\n",
        "        return numerator / denominator\n",
        "\n",
        "    #Tìm giá trị split có gain cao nhất\n",
        "    #Đây là hàm được nhóm tiến hành cài đặt song song chính vì nó tốn nhiều thời gian để chạy nhất\n",
        "    #Bên phiên bản tuần tự thì hàm này xử dụng 2 vòng lặp để tìm ra gain cũng như là gian lớn nhất\n",
        "    #Phiên bản tuần tự khác ở chỗ các kích thước mảng feature qua n vòng lặp (n là số feature) không bằng nhau. Bởi vì nó lấy np.unique() của mảng này\n",
        "    def find_best_split(self, X, y, probs):\n",
        "        best_gain = -np.inf\n",
        "        best_split_feature = None\n",
        "        best_split_value = None\n",
        "\n",
        "        num_samples, num_features = X.shape\n",
        "\n",
        "        for feature_index in range(num_features): #Vòng lặp duyệt qua từng feature\n",
        "            feature_values = X[:, feature_index]\n",
        "            unique_values = np.unique(feature_values)\n",
        "            split_values = np.zeros(len(unique_values)-1)\n",
        "            for i in range(len(split_values)): #Tính giá trị mean giữa 2 phần tử cạnh nhau trong mảng unique_values\n",
        "                split_values[i] = (unique_values[i]+unique_values[i+1])/2\n",
        "\n",
        "            for value in split_values:\n",
        "                left_indices, right_indices = self.split_data(X, feature_index, value)\n",
        "                if len(left_indices) < self.min_samples_split or len(right_indices) < self.min_samples_split:\n",
        "                    continue\n",
        "\n",
        "                y_left = y[left_indices]\n",
        "                y_right = y[right_indices]\n",
        "                p_left = probs[left_indices]\n",
        "                p_right = probs[right_indices]\n",
        "\n",
        "                gain = self.similarity(y_left, p_left) + self.similarity(y_right, p_right) - self.similarity(y, probs) #Tính gain\n",
        "\n",
        "                if gain > best_gain:\n",
        "                    best_gain = gain\n",
        "                    best_split_feature = feature_index\n",
        "                    best_split_value = value\n",
        "        if(best_gain - self.gamma < 0):\n",
        "            best_split_feature = None\n",
        "            best_split_value = None\n",
        "\n",
        "        return best_split_feature, best_split_value\n",
        "\n",
        "    #Tạo node lá\n",
        "    def create_leaf_node(self, y, probs):\n",
        "        return self.similarity(y, probs, 1)\n",
        "\n",
        "    #Dựng cây\n",
        "    def build_tree(self, X, y, probs, depth=0):\n",
        "        if depth >= self.max_depth or len(X) <= self.min_samples_split:\n",
        "            return self.create_leaf_node(y, probs)\n",
        "\n",
        "        start = time.time()\n",
        "        split_feature, split_value = self.find_best_split(X, y, probs)\n",
        "        end = time.time()\n",
        "        self.fbs_t[0] += 1\n",
        "        self.fbs_t[1] += (end - start)\n",
        "\n",
        "        if split_feature is None:\n",
        "            return self.create_leaf_node(y, probs)\n",
        "\n",
        "        left_indices, right_indices = self.split_data(X, split_feature, split_value)\n",
        "        left_child = self.build_tree(X[left_indices], y[left_indices], probs[left_indices], depth + 1)\n",
        "        right_child = self.build_tree(X[right_indices], y[right_indices], probs[right_indices], depth + 1)\n",
        "\n",
        "        self.tree = {\n",
        "            'split_feature': split_feature,\n",
        "            'split_value': split_value,\n",
        "            'left_child': left_child,\n",
        "            'right_child': right_child\n",
        "        }\n",
        "\n",
        "        return self.tree\n",
        "\n",
        "    def fit(self, X, y, probs):\n",
        "        self.tree = self.build_tree(X, y, probs)\n",
        "\n",
        "    def predict(self, X):\n",
        "        return np.array([self._traverse_tree(x, self.tree) for x in X])\n",
        "\n",
        "    #Truy suất cây được tạo để dự đoán giá trị\n",
        "    def _traverse_tree(self, x, node):\n",
        "        if isinstance(node, dict):\n",
        "            split_feature = node['split_feature']\n",
        "            split_value = node['split_value']\n",
        "            if x[split_feature] <= split_value:\n",
        "                return self._traverse_tree(x, node['left_child'])\n",
        "            else:\n",
        "                return self._traverse_tree(x, node['right_child'])\n",
        "        else:\n",
        "            return node"
      ],
      "metadata": {
        "id": "NWGpSJ29bVr4"
      },
      "execution_count": null,
      "outputs": []
    },
    {
      "cell_type": "code",
      "source": [
        "#Loss function\n",
        "def n_log_likelihood(y_true, y_pred):\n",
        "    return -np.sum(y_true*np.log(y_pred)+ (1 - y_true)*np.log(1 - y_pred))\n",
        "\n",
        "#Chuyển sang log(odds). Hàm này được nhóm tiến hành song song hóa ở trên\n",
        "def converter(p):\n",
        "        return np.log(p/(1-p)).astype(np.float64)\n",
        "\n",
        "#Tính giá trị sai lệch. Hàm này được nhóm tiến hành song song hóa ở trên\n",
        "@jit(nopython=True)\n",
        "def residuals(y_true, y_pred):\n",
        "    return (y_true - y_pred).astype(np.float64)\n",
        "\n",
        "#Trả về đoạn [0,1] giống sigmoid (chỉ để thử nghiệm)\n",
        "@jit(nopython=True)\n",
        "def softmax(z):\n",
        "    return np.exp(z)/(np.sum(np.exp(z), axis = 0))\n",
        "\n",
        "def probability(y):\n",
        "    p = np.sum(y == 1)/np.sum(y != 1)\n",
        "    p = p/(1+p)\n",
        "    ans = np.copy(y).astype(np.float64)\n",
        "    ans[y == 1] = p\n",
        "    ans[y != 1] = 1-p\n",
        "    return ans\n",
        "\n",
        "#Tạo cây dự đoán từ các sai lệch\n",
        "def build_weak_learner(X, y, probs, min_impurity, gamma):\n",
        "    model = XGBoostTree(min_impurity = min_impurity, gamma = gamma)\n",
        "    model.fit(X, y, probs)\n",
        "    return model\n",
        "\n",
        "# Tạo XGBoost model\n",
        "class XGBoostModel:\n",
        "    def __init__(self, n_estimators, learning_rate, min_impurity = 1e-7, gamma = 0):\n",
        "        self.n_estimators = n_estimators\n",
        "        self.learning_rate = learning_rate\n",
        "        self.initial_prediction = 0\n",
        "        self.min = None\n",
        "        self.max = None\n",
        "        self.min_impurity = min_impurity\n",
        "        self.gamma = gamma\n",
        "        self.models = []\n",
        "        self.fbs_t = [0,0]\n",
        "        self.con_t = [0,0]\n",
        "        self.res_t = [0,0]\n",
        "        self.ca_t = [0, 0]\n",
        "        self.ca_exp = [0, 0]\n",
        "\n",
        "    def fit(self, X, y):\n",
        "        data = X\n",
        "        self.min = np.min(y)\n",
        "        self.max = np.max(y)\n",
        "\n",
        "        classes, counts = np.unique(y, return_counts=True)\n",
        "        self.initial_prediction = 0.5\n",
        "        predictions = np.full(len(y), self.initial_prediction, dtype =np.float64)\n",
        "        # Vòng lặp build tree model nơi mà model sau xử dụng kết quả dự đoán được của model trước đó\n",
        "        for _ in range(self.n_estimators):\n",
        "            probs = np.copy(predictions)\n",
        "            start = time.time()\n",
        "            residual = residuals(y, predictions)\n",
        "            end = time.time()\n",
        "            self.res_t[0] += 1\n",
        "            self.res_t[1] += (end - start)\n",
        "\n",
        "            model = build_weak_learner(data, residual, probs, self.min_impurity, self.gamma)\n",
        "            self.fbs_t[0] += model.fbs_t[0]\n",
        "            self.fbs_t[1] += model.fbs_t[1]\n",
        "\n",
        "            #Cập nhật dự đoán\n",
        "            start = time.time()\n",
        "            log_odds = converter(predictions)\n",
        "            end = time.time()\n",
        "            self.con_t[0] += 1\n",
        "            self.con_t[1] += (end - start)\n",
        "\n",
        "            start = time.time()\n",
        "            t = log_odds + self.learning_rate * model.predict(data)\n",
        "            end = time.time()\n",
        "            self.ca_t[0] += 1\n",
        "            self.ca_t[1] += (end - start)\n",
        "\n",
        "            start = time.time()\n",
        "            predictions = np.around(np.exp(t) / (1 + np.exp(t)), decimals = 14)\n",
        "            end = time.time()\n",
        "            self.ca_exp[0] += 1\n",
        "            self.ca_exp[1] += (end - start)\n",
        "\n",
        "            # thêm model này vào chuỗi model từ đó hàm loss sẽ dân được cải thiên qua từng lần lặp\n",
        "            self.models.append(model)\n",
        "\n",
        "    def predict_proba(self, X):\n",
        "        #Dự đoán khả năng nhãn là 1\n",
        "        predictions = np.full(len(X),self.initial_prediction)\n",
        "        for model in self.models:\n",
        "            t = np.log(predictions/(1-predictions)) + self.learning_rate * model.predict(X)\n",
        "            predictions = np.around(np.exp(t) / (1 + np.exp(t)), decimals = 14)\n",
        "\n",
        "        return predictions\n",
        "\n",
        "    def predict(self,X):\n",
        "        return (self.predict_proba(X) > self.initial_prediction).astype(int)"
      ],
      "metadata": {
        "id": "b30KzBDXJuy2"
      },
      "execution_count": null,
      "outputs": []
    },
    {
      "cell_type": "markdown",
      "source": [
        "## 1. Binary Classification"
      ],
      "metadata": {
        "id": "pF8P1vpVJCrc"
      }
    },
    {
      "cell_type": "markdown",
      "source": [
        "### Wine dataset"
      ],
      "metadata": {
        "id": "NtcxZKoEnloV"
      }
    },
    {
      "cell_type": "code",
      "source": [
        "from sklearn import preprocessing\n",
        "le = preprocessing.LabelEncoder()\n",
        "dat = pd.read_csv('winequality-red.csv')\n",
        "dat['quality'] = pd.cut(dat['quality'], bins=[2, 5, 8], right=True, labels=False)+1\n",
        "y = dat['quality']= le.fit_transform(dat['quality'])\n",
        "X = dat.drop(['quality'], axis=1).select_dtypes(exclude=['object'])\n",
        "train_X, test_X, train_y, test_y = train_test_split(X, y, test_size=0.25, random_state = 0)\n",
        "train_X.fillna(0, inplace = True)\n",
        "test_X.fillna(0, inplace = True)\n",
        "my_imputer = SimpleImputer()\n",
        "train_X = my_imputer.fit_transform(train_X)\n",
        "test_X = my_imputer.transform(test_X)"
      ],
      "metadata": {
        "id": "WMQ29TG2RXyA"
      },
      "execution_count": null,
      "outputs": []
    },
    {
      "cell_type": "code",
      "source": [
        "train_X.shape"
      ],
      "metadata": {
        "colab": {
          "base_uri": "https://localhost:8080/"
        },
        "id": "uLqhuJvXZoHd",
        "outputId": "4a950579-26e4-4a21-f99d-5b5efb4e5aa9"
      },
      "execution_count": null,
      "outputs": [
        {
          "output_type": "execute_result",
          "data": {
            "text/plain": [
              "(1199, 11)"
            ]
          },
          "metadata": {},
          "execution_count": 7
        }
      ]
    },
    {
      "cell_type": "code",
      "source": [
        "np.mean(train_y)"
      ],
      "metadata": {
        "colab": {
          "base_uri": "https://localhost:8080/"
        },
        "id": "1F9YBIht6GbI",
        "outputId": "eaca5e0a-098a-41e7-a1d8-9638a464bdfa"
      },
      "execution_count": null,
      "outputs": [
        {
          "output_type": "execute_result",
          "data": {
            "text/plain": [
              "0.5337781484570475"
            ]
          },
          "metadata": {},
          "execution_count": 8
        }
      ]
    },
    {
      "cell_type": "code",
      "source": [
        "# Tạo và train XGBoost model\n",
        "xgb_model = XGBoostModel(n_estimators=100, learning_rate=0.3, min_impurity = 0, gamma = 0)\n",
        "start = time.time()\n",
        "xgb_model.fit(train_X, train_y)\n",
        "end = time.time()"
      ],
      "metadata": {
        "id": "lgJCLd4RULKs"
      },
      "execution_count": null,
      "outputs": []
    },
    {
      "cell_type": "code",
      "source": [
        "y_pred = xgb_model.predict(test_X)"
      ],
      "metadata": {
        "id": "nvYxZcXYUNZi"
      },
      "execution_count": null,
      "outputs": []
    },
    {
      "cell_type": "code",
      "source": [
        "from sklearn.metrics import accuracy_score\n",
        "print(\"accuracy_score : \" + str(accuracy_score(test_y, y_pred)))"
      ],
      "metadata": {
        "id": "Ii9xgWyvV6qH",
        "colab": {
          "base_uri": "https://localhost:8080/"
        },
        "outputId": "31147385-c664-4681-ca11-3bbd357c6a91"
      },
      "execution_count": null,
      "outputs": [
        {
          "output_type": "stream",
          "name": "stdout",
          "text": [
            "accuracy_score : 0.78\n"
          ]
        }
      ]
    },
    {
      "cell_type": "code",
      "source": [
        "from sklearn import metrics\n",
        "confusion_matrix = metrics.confusion_matrix(test_y, y_pred)\n",
        "cm_display = metrics.ConfusionMatrixDisplay(confusion_matrix = confusion_matrix, display_labels = [False, True])\n",
        "cm_display.plot()\n",
        "plt.show()"
      ],
      "metadata": {
        "colab": {
          "base_uri": "https://localhost:8080/",
          "height": 449
        },
        "id": "pcius09SzGFG",
        "outputId": "00028ab3-de26-41fa-c791-c3f5962337e1"
      },
      "execution_count": null,
      "outputs": [
        {
          "output_type": "display_data",
          "data": {
            "text/plain": [
              "<Figure size 640x480 with 2 Axes>"
            ],
            "image/png": "[encoded data removed]"
          },
          "metadata": {}
        }
      ]
    },
    {
      "cell_type": "code",
      "source": [
        "print(\"Total time: \" + str(end-start))"
      ],
      "metadata": {
        "colab": {
          "base_uri": "https://localhost:8080/"
        },
        "id": "XxrHEmdCUB3G",
        "outputId": "8d1af30d-407f-4864-c096-4681b1c37fa0"
      },
      "execution_count": null,
      "outputs": [
        {
          "output_type": "stream",
          "name": "stdout",
          "text": [
            "Total time: 39.36565375328064\n"
          ]
        }
      ]
    },
    {
      "cell_type": "code",
      "source": [
        "print(\"find_best_split total: \" + str(xgb_model.fbs_t[0]) + ' in ' + str(xgb_model.fbs_t[1]) + 's')\n",
        "print(\"residuals total: \" + str(xgb_model.res_t[0]) + ' in ' + str(xgb_model.res_t[1]) + 's')\n",
        "print(\"converter total: \" + str(xgb_model.con_t[0]) + ' in ' + str(xgb_model.con_t[1]) + 's')"
      ],
      "metadata": {
        "colab": {
          "base_uri": "https://localhost:8080/"
        },
        "id": "hkRKOwJ6UHP9",
        "outputId": "761886ad-08c6-4a25-af29-e6000bb0ccaf"
      },
      "execution_count": null,
      "outputs": [
        {
          "output_type": "stream",
          "name": "stdout",
          "text": [
            "find_best_split total: 684 in 38.03931379318237s\n",
            "residuals total: 100 in 1.0100650787353516s\n",
            "converter total: 100 in 0.0062334537506103516s\n"
          ]
        }
      ]
    },
    {
      "cell_type": "markdown",
      "source": [
        "## 2. Multi-Classification"
      ],
      "metadata": {
        "id": "RTpRzsgM2URZ"
      }
    },
    {
      "cell_type": "code",
      "source": [
        "train = np.load('train_data_128_full.npz',allow_pickle=True)\n",
        "test = np.load('dataset/test_data_128_full.npz',allow_pickle=True)\n",
        "train_X = train['data']\n",
        "train_y = train['label'].astype(int)\n",
        "train_p = train['plant'].astype(int)\n",
        "train_X = train_X[train['plant'] == 0]\n",
        "train_y = train_y[train['plant'] == 0]\n",
        "test_X = test['data']\n",
        "test_y = test['label']\n",
        "test_p = test['plant']\n",
        "test_X = test_X[test['plant'] == 0]\n",
        "test_y = test_y[test['plant'] == 0]"
      ],
      "metadata": {
        "id": "9NXPG51c2qMT"
      },
      "execution_count": null,
      "outputs": []
    },
    {
      "cell_type": "code",
      "source": [
        "print(train_X.shape)"
      ],
      "metadata": {
        "colab": {
          "base_uri": "https://localhost:8080/"
        },
        "id": "q1CN7bN639ch",
        "outputId": "7fa24a49-bbbc-4b66-a6d8-b4561f57b8ca"
      },
      "execution_count": null,
      "outputs": [
        {
          "output_type": "stream",
          "name": "stdout",
          "text": [
            "(4108, 532)\n"
          ]
        }
      ]
    },
    {
      "cell_type": "code",
      "source": [
        "classes, counts = np.unique(train_y, return_counts=True)\n",
        "models = []\n",
        "preds = []\n",
        "total_time = 0\n",
        "for c in tqdm(classes):\n",
        "  y_t = (train_y == c)\n",
        "  t = XGBoostModel(n_estimators=10, learning_rate=0.4, min_impurity = 0, gamma = 0)\n",
        "  start = time.time()\n",
        "  t.fit(train_X,y_t)\n",
        "  end = time.time()\n",
        "  total_time += (end - start)\n",
        "  models.append(t)\n",
        "  preds.append(models[c].predict_proba(test_X))\n",
        "pred = np.argmax(preds, axis=0)"
      ],
      "metadata": {
        "colab": {
          "base_uri": "https://localhost:8080/"
        },
        "id": "JXUQ_V9O2UxU",
        "outputId": "3bff0e81-0dfa-4c63-8a82-8b52186fba92"
      },
      "execution_count": null,
      "outputs": [
        {
          "output_type": "stream",
          "name": "stderr",
          "text": [
            "100%|██████████| 4/4 [1:06:47<00:00, 1002.00s/it]\n"
          ]
        }
      ]
    },
    {
      "cell_type": "code",
      "source": [
        "print(\"accuracy_score : \" + str(accuracy_score(test_y, pred)))"
      ],
      "metadata": {
        "colab": {
          "base_uri": "https://localhost:8080/"
        },
        "id": "THoreeRy4JAk",
        "outputId": "15d6f0af-d4fd-4fb2-f447-ede38ff51949"
      },
      "execution_count": null,
      "outputs": [
        {
          "output_type": "stream",
          "name": "stdout",
          "text": [
            "accuracy_score : 0.8911671924290221\n"
          ]
        }
      ]
    },
    {
      "cell_type": "code",
      "source": [
        "print(\"Total time: \" + str(total_time))"
      ],
      "metadata": {
        "colab": {
          "base_uri": "https://localhost:8080/"
        },
        "id": "3FJjT3G84Az2",
        "outputId": "a7ad9e9d-4cb2-4a57-d465-2e2f54087486"
      },
      "execution_count": null,
      "outputs": [
        {
          "output_type": "stream",
          "name": "stdout",
          "text": [
            "Total time: 4007.9183537960052\n"
          ]
        }
      ]
    },
    {
      "cell_type": "code",
      "source": [
        "print(\"find_best_split total: \" + str(sum([models[i].fbs_t[0] for i in classes])) + ' in ' + str(sum([models[i].fbs_t[1] for i in classes])) + 's')\n",
        "print(\"residuals total: \" + str(sum([models[i].res_t[0] for i in classes])) + ' in ' + str(sum([models[i].res_t[1] for i in classes])) + 's')\n",
        "print(\"converter total: \" + str(sum([models[i].con_t[0] for i in classes])) + ' in ' + str(sum([models[i].con_t[1] for i in classes])) + 's')"
      ],
      "metadata": {
        "colab": {
          "base_uri": "https://localhost:8080/"
        },
        "id": "I1pS72s74DvP",
        "outputId": "89b2699f-ac0d-4a81-df81-7b532c575440"
      },
      "execution_count": null,
      "outputs": [
        {
          "output_type": "stream",
          "name": "stdout",
          "text": [
            "find_best_split total: 277 in 4006.4796557426453s\n",
            "residuals total: 40 in 0.3780684471130371s\n",
            "converter total: 40 in 0.004176616668701172s\n"
          ]
        }
      ]
    }
  ]
}