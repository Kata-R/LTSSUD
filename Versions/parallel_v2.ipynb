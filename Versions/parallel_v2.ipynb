{
  "cells": [
    {
      "cell_type": "markdown",
      "metadata": {
        "id": "_e8bkkxUHQDE"
      },
      "source": [
        "# Phiên bản song song đầu tiên"
      ]
    },
    {
      "cell_type": "code",
      "execution_count": null,
      "metadata": {
        "colab": {
          "base_uri": "https://localhost:8080/"
        },
        "id": "e5BA3oAPM5dY",
        "outputId": "ad3d7d19-6983-40bd-c39c-a79c9803ceee"
      },
      "outputs": [
        {
          "name": "stdout",
          "output_type": "stream",
          "text": [
            "Mounted at /content/drive\n",
            "/content/drive/My Drive/LTSS/UD\n",
            "'parallel (1).ipynb'   parallelold.ipynb     'sequence (1).ipynb'\n",
            "'parallel (2).ipynb'  'parallel (v0).ipynb'   winequality-red.csv\n"
          ]
        }
      ],
      "source": [
        "from google.colab import drive\n",
        "drive.mount(\"/content/drive\")\n",
        "\n",
        "path_final = \"//content//drive//My Drive//LTSS//UD\"\n",
        "import os\n",
        "\n",
        "if (os.path.isdir(path_final) == True):\n",
        "  %cd \"//content//drive//My Drive//LTSS//UD\"\n",
        "\n",
        "!ls"
      ]
    },
    {
      "cell_type": "code",
      "execution_count": null,
      "metadata": {
        "id": "JI0ZVcuBNAlr"
      },
      "outputs": [],
      "source": [
        "import numpy as np\n",
        "import pandas as pd\n",
        "import sys\n",
        "import math\n",
        "import time\n",
        "import matplotlib.pyplot as plt\n",
        "from numba import cuda\n",
        "import cProfile\n",
        "#from numba import jit\n",
        "from numba import cuda, float32, int32\n",
        "\n",
        "from sklearn.tree import DecisionTreeRegressor\n",
        "from sklearn.model_selection import train_test_split\n",
        "from sklearn.impute  import SimpleImputer\n",
        "from tqdm import tqdm\n",
        "import warnings\n",
        "warnings.filterwarnings('ignore')\n",
        "#np.set_printoptions(threshold=sys.maxsize)"
      ]
    },
    {
      "cell_type": "markdown",
      "metadata": {
        "id": "6WPXiBWNZlB2"
      },
      "source": [
        "**Những phần có khả năng song song hóa:**\n",
        "- XGB tree\n",
        "  - `find_best_split`: Tìm ra điểm dữ liệu tốt nhất để chia dữ liệu\n",
        "  - `similarity`: Hàm tính giá trị similarity cho output và gain\n",
        "- XGB Classifier\n",
        "  - `residuals`: Tính giá trị sai lệch\n",
        "  - `converter`: Chuyển probability sang dạng log(odds)"
      ]
    },
    {
      "cell_type": "markdown",
      "metadata": {
        "id": "aKPqsU9MYhqH"
      },
      "source": [
        "Ở phần trước khi chạy mô hình XGB tuần tự thì hàm `find_best_split` chiếm nhiều thời gian và số lần để chạy nhất. Nên nhóm sẽ tập trung song song hóa hàm này ở phiên bản song song này. Hàm này được chia ra làm 3 phần nhỏ và tất cả các phần đều song song được"
      ]
    },
    {
      "cell_type": "markdown",
      "metadata": {
        "id": "aJTsoM2tmyiV"
      },
      "source": [
        "## Các hàm được song song hóa:"
      ]
    },
    {
      "cell_type": "code",
      "execution_count": null,
      "metadata": {
        "id": "OuFVhJU9cdEG"
      },
      "outputs": [],
      "source": [
        "\n",
        "@cuda.jit\n",
        "def mean_array(a, res): #Hàm tạo mảng tất cả các giá trị split_value của từng feature để tiến hành song song hóa\n",
        "  r = cuda.blockIdx.y * cuda.blockDim.y + cuda.threadIdx.y\n",
        "  c = cuda.blockIdx.x * cuda.blockDim.x + cuda.threadIdx.x\n",
        "  if(r < res.shape[0] and c < res.shape[1]):\n",
        "    if(a[r, c] != a[r + 1, c]): #Chỉ lấy các giá trị khác nhau để tính mean còn lại sẽ trả về giá trị nan\n",
        "      tmp = 0\n",
        "      tmp = (a[r,c] + a[r+1,c])/2\n",
        "      res[r,c] = tmp\n",
        "    else:\n",
        "      res[r,c] = np.nan"
      ]
    },
    {
      "cell_type": "code",
      "execution_count": null,
      "metadata": {
        "colab": {
          "base_uri": "https://localhost:8080/"
        },
        "id": "LWiekdaj0x-C",
        "outputId": "bdf95a19-88fd-458b-be81-b22f0346704f"
      },
      "outputs": [
        {
          "name": "stdout",
          "output_type": "stream",
          "text": [
            "[[ 1  3  2  2]\n",
            " [ 1  3  4  4]\n",
            " [ 1 34 45 56]\n",
            " [ 1 37 50 60]\n",
            " [ 2 39 61 61]]\n",
            "[[ nan  nan  3.   3. ]\n",
            " [ nan 18.5 24.5 30. ]\n",
            " [ nan 35.5 47.5 58. ]\n",
            " [ 1.5 38.  55.5 60.5]]\n"
          ]
        }
      ],
      "source": [
        "ab = np.array([[1,3,2,2],[1,3,4,4],[1,34,45,56],[1,37,50,60],[2,39,61,61]])#Mảng giả lập được sort sẵn\n",
        "a = np.sort(ab, axis=0)\n",
        "res = np.empty((4,4))\n",
        "mean_array[(1,1),(4,4)](a, res)\n",
        "print(a)#Mảng ban đầu\n",
        "print(res)#Mảng trả về"
      ]
    },
    {
      "cell_type": "markdown",
      "metadata": {
        "id": "B-n5Y61tceVK"
      },
      "source": [
        "Lấy output của hàm trên làm input của hàm dưới đây:"
      ]
    },
    {
      "cell_type": "code",
      "execution_count": null,
      "metadata": {
        "id": "gu4OEUPQmiD3"
      },
      "outputs": [],
      "source": [
        "@cuda.jit\n",
        "def cal_gain(split_val, X, y, p, min_impurity, res): #Hàm này trả về một mảng có kích thước bằng với mảng split_val nhưng mỗi giá trị split trong nó sẽ là giá trị gain tương ứng.\n",
        "  r = cuda.blockIdx.y * cuda.blockDim.y + cuda.threadIdx.y\n",
        "  c = cuda.blockIdx.x * cuda.blockDim.x + cuda.threadIdx.x\n",
        "  if(r < split_val.shape[0] and c < split_val.shape[1]):\n",
        "    if(split_val[r, c] != np.nan): #skip các giá trị nan\n",
        "      l_numerator = 0 #Phần tử số là gradient (tổng các residuals ở đây là y) 'l' là bên trái còn 'r' là bên phải giá trị split\n",
        "      r_numerator = 0\n",
        "      l_denominator = 0 #Phần tử số là hessian (tổng p*(1-p), với p là probability) 'l' là bên trái còn 'r' là bên phải giá trị split\n",
        "      r_denominator = 0\n",
        "      for i in range(X.shape[0]):\n",
        "        if(X[i,c] <= split_val[r,c]):\n",
        "          l_numerator = l_numerator + y[i]\n",
        "          l_denominator = l_denominator + p[i]*(1 - p[i])\n",
        "        else:\n",
        "          r_numerator = r_numerator + y[i]\n",
        "          r_denominator = r_denominator + p[i]*(1 - p[i])\n",
        "      l_sim = (l_numerator**2)/(l_denominator + min_impurity)\n",
        "      r_sim = (r_numerator**2)/(r_denominator + min_impurity)\n",
        "      gain = l_sim + r_sim #giá trị gain được tính bằng công thức [gain = left_similarity + right_similarity - root_similarity]. root_similarity được cộng bên ngoài\n",
        "      res[r,c] = gain\n",
        "    else:\n",
        "      res[r,c] = np.nan"
      ]
    },
    {
      "cell_type": "code",
      "execution_count": null,
      "metadata": {
        "id": "wdATsWYnmldr"
      },
      "outputs": [],
      "source": [
        "# tính độ chênh lệch\n",
        "@cuda.jit\n",
        "def residuals_kernel(y_true, y_pred, result):\n",
        "    i = cuda.grid(1)\n",
        "    if i < y_true.shape[0]:\n",
        "        result[i] = y_true[i] - y_pred[i]\n",
        "\n",
        "# chuyển đổi giá trị nhận từ hàm residuals_kernel\n",
        "@cuda.jit\n",
        "def converter_kernel(p, result):\n",
        "    i = cuda.grid(1)\n",
        "    if i < len(p):\n",
        "      result[i] = math.log(p[i]/(1-p[i]))\n",
        "\n",
        "# tính tổng của 1 mảng dùng hàm atomic (hoặc có thể sử dụng phương thức giống với hàm tìm vị trí max bên dưới)\n",
        "@cuda.jit\n",
        "def parallel_sum(array, result):\n",
        "    i = cuda.grid(1)\n",
        "    if i < array.shape[0]:\n",
        "        cuda.atomic.add(result, 0, array[i])\n",
        "\n",
        "# chuẩn hóa lại mảng residual\n",
        "@cuda.jit\n",
        "def denominator_similarity(p, result):\n",
        "    i = cuda.grid(1)\n",
        "    if i < p.shape[0]:\n",
        "        result[i] = p[i] * (1 - p[i])\n",
        "\n",
        "# xoay mảng và lưu vị trí cũ của các điểm\n",
        "@cuda.jit\n",
        "def rot_gain(p, result, row, col):\n",
        "    r, c = cuda.grid(2)\n",
        "    if r < p.shape[0] and c < p.shape[1]:\n",
        "        result[c * p.shape[0] + r] = p[r, c]\n",
        "        row[c * p.shape[0] + r] = r\n",
        "        col[c * p.shape[0] + r] = c\n",
        "\n",
        "# tìm vị trí lớn nhất\n",
        "@cuda.jit\n",
        "def find_max_position(in_array, out_array, n, airow, aicol):\n",
        "    sa = cuda.shared.array(shape=(64), dtype=float32)\n",
        "    i = (cuda.blockIdx.x * cuda.blockDim.x * 2) + (cuda.threadIdx.x * 2)\n",
        "\n",
        "    if i < n:\n",
        "      sa[i] = in_array[i]\n",
        "      sa[i + 1] = in_array[i + 1]\n",
        "    cuda.syncthreads()\n",
        "\n",
        "    # reduce\n",
        "    stride = 1\n",
        "    while (stride < (2 * cuda.blockDim.x)):\n",
        "      if (cuda.threadIdx.x % stride) == 0:\n",
        "        if (i + stride) < n:\n",
        "          if sa[i] < sa[i + stride]:\n",
        "            sa[i] = sa[i + stride]\n",
        "            airow[i] = airow[i + stride]\n",
        "            aicol[i] = aicol[i + stride]\n",
        "\n",
        "      cuda.syncthreads()\n",
        "      stride = stride * 2\n",
        "\n",
        "    if cuda.threadIdx.x == 0:\n",
        "      out_array[cuda.blockIdx.x] = sa[cuda.blockIdx.x * cuda.blockDim.x * 2]\n",
        "      airow[cuda.blockIdx.x] = airow[cuda.blockIdx.x * cuda.blockDim.x * 2]\n",
        "      aicol[cuda.blockIdx.x] = aicol[cuda.blockIdx.x * cuda.blockDim.x * 2]\n",
        "\n",
        "# tính giá trị cuối cùng theo learning rate\n",
        "@cuda.jit\n",
        "def cal_t(lo, lr, data, result):\n",
        "  i = cuda.grid(1)\n",
        "  if i < lo.shape[0]:\n",
        "      result[i] = lo[i] + (lr * data[i])\n",
        "\n",
        "# kích hoạt giá trị cuối cùng\n",
        "@cuda.jit\n",
        "def cal_exp(t, result):\n",
        "  i = cuda.grid(1)\n",
        "  if i < t.shape[0]:\n",
        "    result[i] = math.exp(t[i]) / (1 + math.exp(t[i]))"
      ]
    },
    {
      "cell_type": "markdown",
      "metadata": {
        "id": "7eYt2O-HmnSR"
      },
      "source": [
        "## Thuật toán XGBoost"
      ]
    },
    {
      "cell_type": "code",
      "execution_count": null,
      "metadata": {
        "id": "Ws9Yjmn3NBIK"
      },
      "outputs": [],
      "source": [
        "class XGBoostTree:\n",
        "    def __init__(self, max_depth=6, min_samples_split=1, min_impurity=1e-7, gamma = 0, block_size = 32):\n",
        "        self.max_depth = max_depth\n",
        "        self.min_samples_split = min_samples_split\n",
        "        self.min_impurity = min_impurity\n",
        "        self.gamma = gamma\n",
        "        self.block_size = block_size\n",
        "        self.tree = {}\n",
        "        self.fbs_t = [0,0]\n",
        "\n",
        "    #split_data chia dữ liệu ra làm đôi\n",
        "    def split_data(self, X, feature_index, split_value):\n",
        "        left_indices = X[:, feature_index] <= split_value\n",
        "        right_indices = X[:, feature_index] > split_value\n",
        "        return left_indices, right_indices\n",
        "\n",
        "    #Tính tất cả giá trị similarity của mảng input\n",
        "    def similarity(self, y_true, p, i = 2):\n",
        "        # tính tổng cho tử số\n",
        "        gridn = math.ceil(y_true.shape[0]/self.block_size)\n",
        "        numerator = np.zeros(1, dtype=y_true.dtype)\n",
        "        parallel_sum[gridn, self.block_size](y_true, numerator)\n",
        "\n",
        "        # tính similiraty cho đoạn prob\n",
        "        gridd = math.ceil(p.shape[0]/self.block_size)\n",
        "        denominator = np.zeros(p.shape, dtype=p.dtype)\n",
        "        denominator_similarity[gridd, self.block_size](p, denominator)\n",
        "\n",
        "        # tính tổng prob để làm mẫu số\n",
        "        final_denom = np.zeros(1, dtype=denominator.dtype)\n",
        "        parallel_sum[gridd, self.block_size](denominator, final_denom)\n",
        "\n",
        "        return (numerator[0] ** i) / (final_denom[0] + self.min_impurity)\n",
        "\n",
        "    # đổi mảng 2 chiều thành 1 chiều theo thứ tự ưu tiên (xoay mảng 90 độ theo chiều kim đồng hồ và lật mảng đó 180 độ sau đó về 1 chiều)\n",
        "    def convert2d_2_1d(self, array_2d):\n",
        "      rows, cols = array_2d.shape\n",
        "      blocks_per_grid = ((rows + self.block_size - 1) // self.block_size, (cols + self.block_size - 1) // self.block_size)\n",
        "\n",
        "      # lưu thêm vị trí dòng và cột của các phần từ sau khi chuyển đổi\n",
        "      array_out = np.zeros((cols * rows), dtype=array_2d.dtype)\n",
        "      airow = np.zeros((cols * rows), dtype=np.int64)\n",
        "      aicol = np.zeros((cols * rows), dtype=np.int64)\n",
        "      # Perform rotation and flip on GPU\n",
        "      rot_gain[blocks_per_grid, (self.block_size, self.block_size)](array_2d, array_out, airow, aicol)\n",
        "\n",
        "      return array_out, airow, aicol\n",
        "\n",
        "    #Tìm giá trị split có gain cao nhất trong mảng input\n",
        "    def find_best_split(self, X, y, probs):\n",
        "        best_gain = -np.inf\n",
        "        best_split_feature = None\n",
        "        best_split_value = None\n",
        "\n",
        "        num_samples, num_features = X.shape\n",
        "        split_values = np.empty((X.shape[0]-1, X.shape[1])) #khởi tạo\n",
        "        block_size = (self.block_size, self.block_size)\n",
        "        grid1 = (math.ceil(split_values.shape[1]/block_size[0]),math.ceil(split_values.shape[0]/block_size[1]))\n",
        "        mean_array[grid1, block_size](np.sort(X, axis=0).astype(np.float64), split_values)\n",
        "\n",
        "        gains = np.empty((split_values.shape[0], split_values.shape[1])) #khởi tạo\n",
        "        grid2 = (math.ceil(split_values.shape[1]/block_size[0]),math.ceil(split_values.shape[0]/block_size[1]))\n",
        "        cal_gain[grid2, block_size](split_values, X, y, probs, self.min_impurity, gains)\n",
        "\n",
        "        gains = gains - self.similarity(y, probs) #Trừ đi root similarity\n",
        "        gains[np.isnan(gains)] = -np.inf #Gán nan bằng trừ vô cực để loại\n",
        "\n",
        "        if(np.sum(gains == -np.inf) != gains.shape[0]*gains.shape[1]): #vì bên phần tuần tự giá trị lớn nhất sẽ ưu tiên từ bên trái trên cùng khác với hàm np.argmax()\n",
        "          tid, airow, aicol = self.convert2d_2_1d(gains)\n",
        "          # Tạo các biến lưu giá trị lớn nhất và vị trí tương ứng\n",
        "          # Vì có giới hạn size bộ nhớ cuda ở colab nên phải tách ra từng đoạn với size n (ở đây 64) để tìm vị trí max\n",
        "          tmp = [tid[i:i+(self.block_size * 2)] for i in range(0, len(tid), (self.block_size * 2))]\n",
        "          srow = [airow[i:i+(self.block_size * 2)] for i in range(0, len(airow), (self.block_size * 2))]\n",
        "          scol = [aicol[i:i+(self.block_size * 2)] for i in range(0, len(aicol), (self.block_size * 2))]\n",
        "          max_v = -1\n",
        "          max_r = -1\n",
        "          max_c = -1\n",
        "          flag = False\n",
        "\n",
        "          for i in range(len(tmp)):\n",
        "            max_val = np.zeros(tmp[i].shape[0], dtype=np.float64)\n",
        "            threads_per_block = (self.block_size * 2)\n",
        "            blocks_per_grid = ((tmp[i].shape[0] + threads_per_block - 1) // threads_per_block)\n",
        "\n",
        "            find_max_position[blocks_per_grid, threads_per_block](tmp[i], max_val, tmp[i].shape[0], srow[i], scol[i])\n",
        "\n",
        "            # lưu vị trí max tìm được từng đoạn và so sánh sau mỗi lượt để tìm max cuối cùng\n",
        "            if flag == False:\n",
        "              max_v = max_val[0]\n",
        "              max_r = srow[i][0]\n",
        "              max_c = scol[i][0]\n",
        "              flag = True\n",
        "            else:\n",
        "              if max_v <= max_val[0]:\n",
        "                max_v = max_val[0]\n",
        "                max_r = srow[i][0]\n",
        "                max_c = scol[i][0]\n",
        "\n",
        "          midx = (int(max_r), int(max_c))\n",
        "\n",
        "          best_split_feature = midx[1]\n",
        "          best_gain = gains[midx]\n",
        "          best_split_value = split_values[midx]\n",
        "\n",
        "        if(best_gain - self.gamma < 0):\n",
        "            best_split_feature = None\n",
        "            best_split_value = None\n",
        "\n",
        "        return best_split_feature, best_split_value\n",
        "\n",
        "    #Tạo node lá\n",
        "    def create_leaf_node(self, y, probs):\n",
        "        return self.similarity(y, probs, 1)\n",
        "\n",
        "    #Dựng cây\n",
        "    def build_tree(self, X, y, probs, depth=0):\n",
        "        if depth >= self.max_depth or len(X) <= self.min_samples_split:\n",
        "            return self.create_leaf_node(y, probs)\n",
        "\n",
        "        start = time.time()\n",
        "        split_feature, split_value = self.find_best_split(X, y, probs)\n",
        "        end = time.time()\n",
        "        self.fbs_t[0] += 1\n",
        "        self.fbs_t[1] += (end - start)\n",
        "\n",
        "        if split_feature is None:\n",
        "            return self.create_leaf_node(y, probs)\n",
        "\n",
        "        left_indices, right_indices = self.split_data(X, split_feature, split_value)\n",
        "        left_child = self.build_tree(X[left_indices], y[left_indices], probs[left_indices], depth + 1)\n",
        "        right_child = self.build_tree(X[right_indices], y[right_indices], probs[right_indices], depth + 1)\n",
        "\n",
        "        self.tree = {\n",
        "            'split_feature': split_feature,\n",
        "            'split_value': split_value,\n",
        "            'left_child': left_child,\n",
        "            'right_child': right_child\n",
        "        }\n",
        "\n",
        "        return self.tree\n",
        "\n",
        "    def fit(self, X, y, probs):\n",
        "        self.tree = self.build_tree(X, y, probs)\n",
        "\n",
        "    def predict(self, X):\n",
        "        return np.array([self._traverse_tree(x, self.tree) for x in X])\n",
        "\n",
        "    #Truy suất cây được tạo để dự đoán giá trị\n",
        "    def _traverse_tree(self, x, node):\n",
        "        if isinstance(node, dict):\n",
        "            split_feature = node['split_feature']\n",
        "            split_value = node['split_value']\n",
        "            if x[split_feature] <= split_value:\n",
        "                return self._traverse_tree(x, node['left_child'])\n",
        "            else:\n",
        "                return self._traverse_tree(x, node['right_child'])\n",
        "        else:\n",
        "            return node"
      ]
    },
    {
      "cell_type": "code",
      "execution_count": null,
      "metadata": {
        "id": "yBvagkThaZrK"
      },
      "outputs": [],
      "source": [
        "#Loss function\n",
        "def n_log_likelihood(y_true, y_pred):\n",
        "    return -np.sum(y_true*np.log(y_pred)+ (1 - y_true)*np.log(1 - y_pred))\n",
        "\n",
        "#Trả về đoạn [0,1] giống sigmoid (chỉ để thử nghiệm)\n",
        "def softmax(z):\n",
        "    return np.exp(z)/(np.sum(np.exp(z), axis = 0))\n",
        "\n",
        "#Tạo cây\n",
        "def build_weak_learner(X, y, probs, min_impurity, gamma, max_depth, block_size):\n",
        "    # Create the weak learner (decision tree) and fit it to the gradients and Hessians\n",
        "    model = XGBoostTree(min_impurity = min_impurity, gamma = gamma, block_size = block_size, max_depth=max_depth)  # Adjust the hyperparameters as needed\n",
        "    model.fit(X, y, probs)  # Divide gradients by Hessians to account for second-order effects\n",
        "    return model\n",
        "\n",
        "# Define the XGBoost model\n",
        "class XGBoostModel:\n",
        "    def __init__(self, n_estimators, learning_rate, min_impurity = 1e-7, gamma = 0, debug = 0, max_depth = 6, block_size = 32):\n",
        "        self.n_estimators = n_estimators\n",
        "        self.learning_rate = learning_rate\n",
        "        self.initial_prediction = 0\n",
        "        self.min_impurity = min_impurity\n",
        "        self.gamma = gamma\n",
        "        self.debug = debug\n",
        "        self.max_depth = max_depth\n",
        "        self.block_size = block_size\n",
        "        self.models = []\n",
        "        self.fbs_t = [0,0] #các giá trị _t để đo thời gian\n",
        "        self.con_t = [0,0]\n",
        "        self.res_t = [0,0]\n",
        "        self.ca_t = [0, 0]\n",
        "        self.ca_exp = [0, 0]\n",
        "\n",
        "    def fit(self, X, y):\n",
        "        data = X\n",
        "        classes, counts = np.unique(y, return_counts=True)\n",
        "        #dominant_class = classes[np.argmax(counts)]\n",
        "        self.initial_prediction = 0.5\n",
        "        #self.initial_prediction = np.mean(y)\n",
        "        predictions = np.full(len(y), self.initial_prediction, dtype =np.float64)\n",
        "        # Build the models in a loop\n",
        "        for _ in range(self.n_estimators):\n",
        "            probs = np.copy(predictions)\n",
        "            residual = np.empty_like(y, dtype=predictions.dtype)#np.empty(len(y))\n",
        "            block_size = (32)\n",
        "            grid = math.ceil(len(residual)/block_size)\n",
        "            start = time.time()\n",
        "            residuals_kernel[grid, block_size](y, predictions, residual)#Tính residual\n",
        "            end = time.time()\n",
        "            self.res_t[0] += 1\n",
        "            self.res_t[1] += (end - start)\n",
        "            #print(residual)\n",
        "\n",
        "            # Fit a weak learner (e.g., a decision tree) to the gradients and Hessians\n",
        "            model = build_weak_learner(data, residual, probs, self.min_impurity, self.gamma, self.max_depth, self.block_size)  # Implement your own weak learner\n",
        "            self.fbs_t[0] += model.fbs_t[0]\n",
        "            self.fbs_t[1] += model.fbs_t[1]\n",
        "\n",
        "            # Update the predictions using the learning rate and the predictions of the weak learner\n",
        "            log_odds = np.empty_like(y, dtype=np.float64)\n",
        "            #block_size = (32)\n",
        "            #grid = math.ceil(len(residual)/block_size)\n",
        "            start = time.time()\n",
        "            converter_kernel[grid, block_size](predictions, log_odds)#Tính log(odds)\n",
        "            end = time.time()\n",
        "            self.con_t[0] += 1\n",
        "            self.con_t[1] += (end - start)\n",
        "\n",
        "            # song song hóa các phép tính broadcoasting trên mảng tương tự tính tổng ở hàm similarity\n",
        "            t = np.empty_like(log_odds, dtype=log_odds.dtype)\n",
        "            start = time.time()\n",
        "            cal_t[grid, block_size](log_odds, self.learning_rate, model.predict(data), t)\n",
        "            end = time.time()\n",
        "            self.ca_t[0] += 1\n",
        "            self.ca_t[1] += (end - start)\n",
        "\n",
        "            nt = np.empty_like(t, dtype=t.dtype)\n",
        "            start = time.time()\n",
        "            cal_exp[grid, block_size](t, nt)\n",
        "            end = time.time()\n",
        "            self.ca_exp[0] += 1\n",
        "            self.ca_exp[1] += (end - start)\n",
        "\n",
        "            predictions = np.around(nt, decimals = 14)#Làm tròn đến số thập phân thứ 14 để tránh tràn float64\n",
        "            #print(predictions.dtype)\n",
        "            if(self.debug == 1):\n",
        "              print(\"n_log_likelihood: \" + str(n_log_likelihood(y, predictions)))\n",
        "\n",
        "            # Add the model to the ensemble\n",
        "            self.models.append(model)\n",
        "\n",
        "    def predict_proba(self, X):\n",
        "        # Make predictions by aggregating the predictions of all models in the ensemble\n",
        "        predictions = np.full(len(X),self.initial_prediction)\n",
        "        for model in self.models:\n",
        "            block_size = (32)\n",
        "            grid = math.ceil(len(predictions)/block_size)\n",
        "            log_odds = np.empty_like(predictions, dtype=np.float64)\n",
        "            converter_kernel[grid, block_size](predictions, log_odds)\n",
        "            t = np.empty_like(log_odds, dtype=log_odds.dtype)\n",
        "            cal_t[grid, block_size](log_odds, self.learning_rate, model.predict(X), t)\n",
        "            #t = np.log(predictions/(1-predictions)) + self.learning_rate * model.predict(X)\n",
        "            nt = np.empty_like(t, dtype=t.dtype)\n",
        "            cal_exp[grid, block_size](t, nt)\n",
        "            predictions = np.around(nt, decimals = 14)\n",
        "            #predictions = softmax(t)\n",
        "\n",
        "        #predictions = predictions*(self.max - self.min) + self.min\n",
        "        #print(predictions)\n",
        "        return predictions\n",
        "\n",
        "    def predict(self,X):\n",
        "        return (self.predict_proba(X) > self.initial_prediction).astype(int)"
      ]
    },
    {
      "cell_type": "markdown",
      "metadata": {
        "id": "8E8bmcIQmFvG"
      },
      "source": [
        "## 1. Binary Classification"
      ]
    },
    {
      "cell_type": "markdown",
      "metadata": {
        "id": "cjb_mqrVl1qz"
      },
      "source": [
        "### 1. Wine dataset"
      ]
    },
    {
      "cell_type": "code",
      "execution_count": null,
      "metadata": {
        "id": "d6vUrtilagAK"
      },
      "outputs": [],
      "source": [
        "from sklearn import preprocessing\n",
        "le = preprocessing.LabelEncoder()\n",
        "dat = pd.read_csv('winequality-red.csv')\n",
        "dat['quality'] = pd.cut(dat['quality'], bins=[2, 5, 8], right=True, labels=False)+1\n",
        "y = dat['quality']= le.fit_transform(dat['quality'])\n",
        "X = dat.drop(['quality'], axis=1).select_dtypes(exclude=['object'])\n",
        "train_X, test_X, train_y, test_y = train_test_split(X, y, test_size=0.25, random_state = 5)\n",
        "train_X.fillna(0, inplace = True)\n",
        "test_X.fillna(0, inplace = True)\n",
        "my_imputer = SimpleImputer()\n",
        "train_X = my_imputer.fit_transform(train_X)\n",
        "test_X = my_imputer.transform(test_X)"
      ]
    },
    {
      "cell_type": "code",
      "execution_count": null,
      "metadata": {
        "colab": {
          "base_uri": "https://localhost:8080/"
        },
        "id": "2UNHhCP4s_Jw",
        "outputId": "4db29c72-c184-487e-e462-0e57f7e200a3"
      },
      "outputs": [
        {
          "data": {
            "text/plain": [
              "(1199,)"
            ]
          },
          "execution_count": 11,
          "metadata": {},
          "output_type": "execute_result"
        }
      ],
      "source": [
        "train_y.shape"
      ]
    },
    {
      "cell_type": "code",
      "execution_count": null,
      "metadata": {
        "colab": {
          "base_uri": "https://localhost:8080/"
        },
        "id": "xRXGw44Wk_wI",
        "outputId": "4b19c91b-68e6-44be-d5d8-068ad225a6e5"
      },
      "outputs": [
        {
          "name": "stdout",
          "output_type": "stream",
          "text": [
            "(1199, 11)\n"
          ]
        }
      ],
      "source": [
        "print(train_X.shape)"
      ]
    },
    {
      "cell_type": "code",
      "execution_count": null,
      "metadata": {
        "colab": {
          "base_uri": "https://localhost:8080/"
        },
        "id": "JON90CQfbDj-",
        "outputId": "a5b45f3e-4d0c-4b72-e83f-e7afed4c2e60"
      },
      "outputs": [
        {
          "data": {
            "text/plain": [
              "0.5396163469557965"
            ]
          },
          "execution_count": 13,
          "metadata": {},
          "output_type": "execute_result"
        }
      ],
      "source": [
        "np.mean(train_y)"
      ]
    },
    {
      "cell_type": "code",
      "execution_count": null,
      "metadata": {
        "colab": {
          "base_uri": "https://localhost:8080/"
        },
        "id": "voXxtpwKbD6I",
        "outputId": "b233ff37-dc38-46ba-db34-008f77d9cbe6"
      },
      "outputs": [
        {
          "name": "stdout",
          "output_type": "stream",
          "text": [
            "Total time: 284.5304398536682\n"
          ]
        }
      ],
      "source": [
        "# Create and train the XGBoost model\n",
        "xgb_model = XGBoostModel(n_estimators=500, learning_rate=0.3, min_impurity = 1, gamma = 0.2, max_depth = 5)\n",
        "start = time.time()\n",
        "xgb_model.fit(train_X, train_y)\n",
        "end = time.time()\n",
        "print(\"Total time: \" + str(end-start))"
      ]
    },
    {
      "cell_type": "code",
      "execution_count": null,
      "metadata": {
        "id": "0C06t-scbGqz"
      },
      "outputs": [],
      "source": [
        "# Make predictions\n",
        "y_pred = xgb_model.predict(test_X)"
      ]
    },
    {
      "cell_type": "code",
      "execution_count": null,
      "metadata": {
        "colab": {
          "base_uri": "https://localhost:8080/"
        },
        "id": "VPJuFoWUbJzc",
        "outputId": "82b2fd49-1a70-4f92-e301-d3b913f23316"
      },
      "outputs": [
        {
          "name": "stdout",
          "output_type": "stream",
          "text": [
            "accuracy_score : 0.77\n"
          ]
        }
      ],
      "source": [
        "from sklearn.metrics import accuracy_score\n",
        "print(\"accuracy_score : \" + str(accuracy_score(test_y, y_pred)))"
      ]
    },
    {
      "cell_type": "code",
      "execution_count": null,
      "metadata": {
        "colab": {
          "base_uri": "https://localhost:8080/",
          "height": 449
        },
        "id": "wVubzkET5vkB",
        "outputId": "88c86daa-6862-466b-c959-43c6c2299676"
      },
      "outputs": [
        {
          "data": {
            "image/png": "[encoded data removed]",
            "text/plain": [
              "<Figure size 640x480 with 2 Axes>"
            ]
          },
          "metadata": {},
          "output_type": "display_data"
        }
      ],
      "source": [
        "from sklearn import metrics\n",
        "confusion_matrix = metrics.confusion_matrix(test_y, y_pred)\n",
        "cm_display = metrics.ConfusionMatrixDisplay(confusion_matrix = confusion_matrix, display_labels = [False, True])\n",
        "cm_display.plot()\n",
        "plt.show()"
      ]
    },
    {
      "cell_type": "code",
      "execution_count": null,
      "metadata": {
        "colab": {
          "base_uri": "https://localhost:8080/"
        },
        "id": "FxBfGyY0Prf4",
        "outputId": "5644155e-4076-44c9-8b7e-c9255df33dde"
      },
      "outputs": [
        {
          "name": "stdout",
          "output_type": "stream",
          "text": [
            "find_best_split total: 1808 in 275.75285172462463s\n",
            "residuals total: 500 in 0.7862987518310547s\n",
            "converter total: 500 in 0.6064178943634033s\n",
            "Esemble total: 500 in 1.2164826393127441s\n",
            "Sigmod total: 500 in 0.598541259765625s\n"
          ]
        }
      ],
      "source": [
        "print(\"find_best_split total: \" + str(xgb_model.fbs_t[0]) + ' in ' + str(xgb_model.fbs_t[1]) + 's')\n",
        "print(\"residuals total: \" + str(xgb_model.res_t[0]) + ' in ' + str(xgb_model.res_t[1]) + 's')\n",
        "print(\"converter total: \" + str(xgb_model.con_t[0]) + ' in ' + str(xgb_model.con_t[1]) + 's')\n",
        "print(\"Esemble total: \" + str(xgb_model.ca_t[0]) + ' in ' + str(xgb_model.ca_t[1]) + 's')\n",
        "print(\"Sigmod total: \" + str(xgb_model.ca_exp[0]) + ' in ' + str(xgb_model.ca_exp[1]) + 's')"
      ]
    },
    {
      "cell_type": "code",
      "execution_count": null,
      "metadata": {
        "id": "fB7kH6mhVuHl"
      },
      "outputs": [],
      "source": []
    }
  ],
  "metadata": {
    "accelerator": "GPU",
    "colab": {
      "collapsed_sections": [
        "lnNJizvNlmFh"
      ],
      "provenance": []
    },
    "kernelspec": {
      "display_name": "Python 3",
      "name": "python3"
    },
    "language_info": {
      "name": "python"
    }
  },
  "nbformat": 4,
  "nbformat_minor": 0
}
